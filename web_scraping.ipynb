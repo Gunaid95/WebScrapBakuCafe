{
  "nbformat": 4,
  "nbformat_minor": 0,
  "metadata": {
    "colab": {
      "provenance": [],
      "authorship_tag": "ABX9TyPxNo6uqVkSUcK7TcbnDjoY",
      "include_colab_link": true
    },
    "kernelspec": {
      "name": "python3",
      "display_name": "Python 3"
    },
    "language_info": {
      "name": "python"
    }
  },
  "cells": [
    {
      "cell_type": "markdown",
      "metadata": {
        "id": "view-in-github",
        "colab_type": "text"
      },
      "source": [
        "<a href=\"https://colab.research.google.com/github/Gunaid95/WebScrapBakuCafe/blob/main/web_scraping.ipynb\" target=\"_parent\"><img src=\"https://colab.research.google.com/assets/colab-badge.svg\" alt=\"Open In Colab\"/></a>"
      ]
    },
    {
      "cell_type": "code",
      "execution_count": null,
      "metadata": {
        "id": "yKVh9SQ-IkJA"
      },
      "outputs": [],
      "source": [
        "import requests as req\n",
        "from bs4 import BeautifulSoup as bs\n",
        "import re"
      ]
    },
    {
      "cell_type": "code",
      "source": [
        "url1 = 'https://baku.cafe/search'\n",
        "page = req.get(url1)\n",
        "print(page)"
      ],
      "metadata": {
        "colab": {
          "base_uri": "https://localhost:8080/"
        },
        "id": "n3fSjqpZIxmE",
        "outputId": "4ee1f887-2fb7-441e-fa34-4553b6f5f7b4"
      },
      "execution_count": null,
      "outputs": [
        {
          "output_type": "stream",
          "name": "stdout",
          "text": [
            "<Response [200]>\n"
          ]
        }
      ]
    },
    {
      "cell_type": "code",
      "source": [
        "soup = bs(page.content, 'html.parser')\n",
        "# print(soup)"
      ],
      "metadata": {
        "id": "zCi-tYqfJLgd"
      },
      "execution_count": null,
      "outputs": []
    },
    {
      "cell_type": "code",
      "source": [
        "results = soup.findAll('div', {'class': 'name f13 left'})\n",
        "results = str(results)\n",
        "print(results)"
      ],
      "metadata": {
        "colab": {
          "base_uri": "https://localhost:8080/"
        },
        "id": "8VVUlhlTO4J0",
        "outputId": "a10e9cf4-c2f7-418d-97d9-4eae582f07c3"
      },
      "execution_count": null,
      "outputs": [
        {
          "output_type": "stream",
          "name": "stdout",
          "text": [
            "[<div class=\"name f13 left\" itemprop=\"name\">Metropol</div>, <div class=\"name f13 left\" itemprop=\"name\">Sumakh</div>, <div class=\"name f13 left\" itemprop=\"name\">Okean</div>, <div class=\"name f13 left\" itemprop=\"name\">Eleven</div>, <div class=\"name f13 left\" itemprop=\"name\">Green Garden</div>, <div class=\"name f13 left\" itemprop=\"name\">Kings</div>, <div class=\"name f13 left\" itemprop=\"name\">Arabesque</div>, <div class=\"name f13 left\" itemprop=\"name\">Cafe City Ganjlik</div>, <div class=\"name f13 left\" itemprop=\"name\">Bubble Waffle Sahil</div>, <div class=\"name f13 left\" itemprop=\"name\">Diamond</div>, <div class=\"name f13 left\" itemprop=\"name\">Nar Cafe</div>, <div class=\"name f13 left\" itemprop=\"name\">Tarhun</div>, <div class=\"name f13 left\" itemprop=\"name\">High Boost</div>, <div class=\"name f13 left\" itemprop=\"name\">Premiere</div>, <div class=\"name f13 left\" itemprop=\"name\">Soul Kitchen</div>, <div class=\"name f13 left\" itemprop=\"name\">Riviera</div>, <div class=\"name f13 left\" itemprop=\"name\">Hollywood Gold</div>, <div class=\"name f13 left\" itemprop=\"name\">Mozart</div>, <div class=\"name f13 left\" itemprop=\"name\">Cay Evi</div>, <div class=\"name f13 left\" itemprop=\"name\">Xalcha</div>, <div class=\"name f13 left\" itemprop=\"name\">Portofino</div>, <div class=\"name f13 left\" itemprop=\"name\">Bubble Waffle</div>, <div class=\"name f13 left\" itemprop=\"name\">Metropole</div>, <div class=\"name f13 left\" itemprop=\"name\">Babat</div>, <div class=\"name f13 left\" itemprop=\"name\">Mado</div>, <div class=\"name f13 left\" itemprop=\"name\">Switch</div>, <div class=\"name f13 left\" itemprop=\"name\">Beerbasha</div>, <div class=\"name f13 left\" itemprop=\"name\">Telequlle</div>, <div class=\"name f13 left\" itemprop=\"name\">La Marea</div>, <div class=\"name f13 left\" itemprop=\"name\">MEAT</div>, <div class=\"name f13 left\" itemprop=\"name\">Fresh Point</div>, <div class=\"name f13 left\" itemprop=\"name\">Rose Bar</div>, <div class=\"name f13 left\" itemprop=\"name\">Movida</div>, <div class=\"name f13 left\" itemprop=\"name\">Cafe City 5</div>, <div class=\"name f13 left\" itemprop=\"name\">Cay Bagi</div>, <div class=\"name f13 left\" itemprop=\"name\">Nakhchivan</div>, <div class=\"name f13 left\" itemprop=\"name\">Malacannes</div>, <div class=\"name f13 left\" itemprop=\"name\">5 Doors</div>, <div class=\"name f13 left\" itemprop=\"name\">Ministerium</div>, <div class=\"name f13 left\" itemprop=\"name\">Womens</div>, <div class=\"name f13 left\" itemprop=\"name\">Lviv Chocolate</div>, <div class=\"name f13 left\" itemprop=\"name\">Central</div>, <div class=\"name f13 left\" itemprop=\"name\">Pakhlava</div>, <div class=\"name f13 left\" itemprop=\"name\">7 Sunday</div>, <div class=\"name f13 left\" itemprop=\"name\">The Lounge</div>, <div class=\"name f13 left\" itemprop=\"name\">Friends</div>, <div class=\"name f13 left\" itemprop=\"name\">World Cinema</div>, <div class=\"name f13 left\" itemprop=\"name\">Cafe City</div>, <div class=\"name f13 left\" itemprop=\"name\">Galiano</div>, <div class=\"name f13 left\" itemprop=\"name\">Hollywood Platinum</div>, <div class=\"name f13 left\" itemprop=\"name\">Lido</div>, <div class=\"name f13 left\" itemprop=\"name\">Hollywood Planet</div>, <div class=\"name f13 left\" itemprop=\"name\">Bubble Waffle 28</div>, <div class=\"name f13 left\" itemprop=\"name\">MariVanna</div>, <div class=\"name f13 left\" itemprop=\"name\">Cafe City 28</div>, <div class=\"name f13 left\" itemprop=\"name\">Buddha-Bar</div>, <div class=\"name f13 left\" itemprop=\"name\">Barrel</div>, <div class=\"name f13 left\" itemprop=\"name\">Mado Ganjlik</div>, <div class=\"name f13 left\" itemprop=\"name\">Tatell</div>, <div class=\"name f13 left\" itemprop=\"name\">Papa</div>, <div class=\"name f13 left\" itemprop=\"name\">Apartment 9</div>, <div class=\"name f13 left\" itemprop=\"name\">Ajda</div>, <div class=\"name f13 left\" itemprop=\"name\">Meating Point</div>, <div class=\"name f13 left\" itemprop=\"name\">Tosca</div>, <div class=\"name f13 left\" itemprop=\"name\">Passage</div>, <div class=\"name f13 left\" itemprop=\"name\">Mado Narimanov</div>, <div class=\"name f13 left\" itemprop=\"name\">Noosh</div>, <div class=\"name f13 left\" itemprop=\"name\">MAYA</div>, <div class=\"name f13 left\" itemprop=\"name\">Billionaire</div>, <div class=\"name f13 left\" itemprop=\"name\">Gate 25</div>, <div class=\"name f13 left\" itemprop=\"name\">Hundred</div>, <div class=\"name f13 left\" itemprop=\"name\">Hype</div>, <div class=\"name f13 left\" itemprop=\"name\">Chinar</div>, <div class=\"name f13 left\" itemprop=\"name\">Circle</div>, <div class=\"name f13 left\" itemprop=\"name\">Paris Bistro</div>, <div class=\"name f13 left\" itemprop=\"name\">The Place</div>, <div class=\"name f13 left\" itemprop=\"name\">Sea Bay</div>, <div class=\"name f13 left\" itemprop=\"name\">Black</div>, <div class=\"name f13 left\" itemprop=\"name\">Shade</div>, <div class=\"name f13 left\" itemprop=\"name\">Tarhun Metropark</div>, <div class=\"name f13 left\" itemprop=\"name\">Vertical 29</div>, <div class=\"name f13 left\" itemprop=\"name\">Cafe City Fountain</div>, <div class=\"name f13 left\" itemprop=\"name\">Shore House</div>, <div class=\"name f13 left\" itemprop=\"name\">Haven</div>, <div class=\"name f13 left\" itemprop=\"name\">Station Game Saloons</div>, <div class=\"name f13 left\" itemprop=\"name\">Sahil</div>, <div class=\"name f13 left\" itemprop=\"name\">Pasifico</div>, <div class=\"name f13 left\" itemprop=\"name\">Mado Torqoviy</div>, <div class=\"name f13 left\" itemprop=\"name\">Mado 28 Mall</div>, <div class=\"name f13 left\" itemprop=\"name\">Qazmaq</div>, <div class=\"name f13 left\" itemprop=\"name\">Lviv Chocolate</div>, <div class=\"name f13 left\" itemprop=\"name\">Manhattan</div>, <div class=\"name f13 left\" itemprop=\"name\">Wino</div>, <div class=\"name f13 left\" itemprop=\"name\">Hollywood Deluxe</div>, <div class=\"name f13 left\" itemprop=\"name\">Baku Cafe</div>, <div class=\"name f13 left\" itemprop=\"name\">Hard Rock</div>, <div class=\"name f13 left\" itemprop=\"name\">Enerji</div>, <div class=\"name f13 left\" itemprop=\"name\">COURT</div>, <div class=\"name f13 left\" itemprop=\"name\">Evolution</div>, <div class=\"name f13 left\" itemprop=\"name\">Hollywood Diamond</div>]\n"
          ]
        }
      ]
    },
    {
      "cell_type": "code",
      "source": [
        "x = re.sub('<div class=\"name f13 left\" itemprop=\"name\">', ' ', results)\n",
        "y = re.sub('</div>', ' ', x)"
      ],
      "metadata": {
        "id": "glsn4ENEUc-7"
      },
      "execution_count": null,
      "outputs": []
    },
    {
      "cell_type": "code",
      "source": [
        "print(y)"
      ],
      "metadata": {
        "colab": {
          "base_uri": "https://localhost:8080/"
        },
        "id": "4be7p58cX6BG",
        "outputId": "5f821254-7ac0-4413-c62f-ac04a8ab6764"
      },
      "execution_count": null,
      "outputs": [
        {
          "output_type": "stream",
          "name": "stdout",
          "text": [
            "[ Metropol ,  Sumakh ,  Okean ,  Eleven ,  Green Garden ,  Kings ,  Arabesque ,  Cafe City Ganjlik ,  Bubble Waffle Sahil ,  Diamond ,  Nar Cafe ,  Tarhun ,  High Boost ,  Premiere ,  Soul Kitchen ,  Riviera ,  Hollywood Gold ,  Mozart ,  Cay Evi ,  Xalcha ,  Portofino ,  Bubble Waffle ,  Metropole ,  Babat ,  Mado ,  Switch ,  Beerbasha ,  Telequlle ,  La Marea ,  MEAT ,  Fresh Point ,  Rose Bar ,  Movida ,  Cafe City 5 ,  Cay Bagi ,  Nakhchivan ,  Malacannes ,  5 Doors ,  Ministerium ,  Womens ,  Lviv Chocolate ,  Central ,  Pakhlava ,  7 Sunday ,  The Lounge ,  Friends ,  World Cinema ,  Cafe City ,  Galiano ,  Hollywood Platinum ,  Lido ,  Hollywood Planet ,  Bubble Waffle 28 ,  MariVanna ,  Cafe City 28 ,  Buddha-Bar ,  Barrel ,  Mado Ganjlik ,  Tatell ,  Papa ,  Apartment 9 ,  Ajda ,  Meating Point ,  Tosca ,  Passage ,  Mado Narimanov ,  Noosh ,  MAYA ,  Billionaire ,  Gate 25 ,  Hundred ,  Hype ,  Chinar ,  Circle ,  Paris Bistro ,  The Place ,  Sea Bay ,  Black ,  Shade ,  Tarhun Metropark ,  Vertical 29 ,  Cafe City Fountain ,  Shore House ,  Haven ,  Station Game Saloons ,  Sahil ,  Pasifico ,  Mado Torqoviy ,  Mado 28 Mall ,  Qazmaq ,  Lviv Chocolate ,  Manhattan ,  Wino ,  Hollywood Deluxe ,  Baku Cafe ,  Hard Rock ,  Enerji ,  COURT ,  Evolution ,  Hollywood Diamond ]\n"
          ]
        }
      ]
    }
  ]
}